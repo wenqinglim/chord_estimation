{
 "cells": [
  {
   "cell_type": "code",
   "execution_count": 1,
   "metadata": {},
   "outputs": [],
   "source": [
    "%load_ext autoreload"
   ]
  },
  {
   "cell_type": "code",
   "execution_count": 2,
   "metadata": {},
   "outputs": [],
   "source": [
    "%reload_ext autoreload"
   ]
  },
  {
   "cell_type": "code",
   "execution_count": 3,
   "metadata": {},
   "outputs": [],
   "source": [
    "### Pytorch single dense layer neural network\n",
    "import torch\n",
    "import torch.nn as nn\n",
    "from tqdm import tqdm\n",
    "import numpy as np\n",
    "import pandas as pd\n",
    "import matplotlib.pyplot as plt\n",
    "from sklearn.preprocessing import MinMaxScaler\n",
    "\n",
    "\n",
    "from torch.utils.data import DataLoader, TensorDataset\n",
    "\n",
    "from constants import chord_majmin_map\n",
    "from utils import convert_label_to_idx, evaluate, evaluate_by_chord, get_chord_error\n",
    "\n",
    "device = torch.device('cuda' if torch.cuda.is_available() else 'cpu')"
   ]
  },
  {
   "cell_type": "markdown",
   "metadata": {},
   "source": [
    "## Read data and convert to tensor"
   ]
  },
  {
   "cell_type": "code",
   "execution_count": 4,
   "metadata": {},
   "outputs": [],
   "source": [
    "# Read csv dataset and convert to tensor\n",
    "X_train = pd.read_csv('data/X_train.csv', header=None)\n",
    "y_train = pd.read_csv('data/y_train.csv', header=None)\n",
    "X_test = pd.read_csv('data/X_test.csv', header=None)\n",
    "y_test = pd.read_csv('data/y_test.csv', header=None)"
   ]
  },
  {
   "cell_type": "code",
   "execution_count": 5,
   "metadata": {},
   "outputs": [],
   "source": [
    "y_train_idx = y_train.apply(lambda x: convert_label_to_idx(*x), axis=1)  \n",
    "y_test_idx = y_test.apply(lambda x: convert_label_to_idx(*x), axis=1)"
   ]
  },
  {
   "cell_type": "code",
   "execution_count": 6,
   "metadata": {},
   "outputs": [],
   "source": [
    "# Scale input data\n",
    "scaler = MinMaxScaler()\n",
    "X_train = scaler.fit_transform(X_train)\n",
    "X_test = scaler.transform(X_test)"
   ]
  },
  {
   "cell_type": "code",
   "execution_count": 7,
   "metadata": {},
   "outputs": [],
   "source": [
    "X_train = torch.tensor(X_train, dtype=torch.float32)\n",
    "y_train = torch.tensor(y_train_idx.values, dtype=torch.long)\n",
    "X_test = torch.tensor(X_test, dtype=torch.float32)\n",
    "y_test = torch.tensor(y_test_idx.values, dtype=torch.long)"
   ]
  },
  {
   "cell_type": "markdown",
   "metadata": {},
   "source": [
    "### Setup data loader"
   ]
  },
  {
   "cell_type": "code",
   "execution_count": 8,
   "metadata": {},
   "outputs": [],
   "source": [
    "# Add data to dataloader\n",
    "training_data = TensorDataset(X_train, y_train)\n",
    "test_data = TensorDataset(X_test, y_test)\n",
    "\n",
    "train_dataloader = DataLoader(training_data, batch_size=64, shuffle=True)\n",
    "test_dataloader = DataLoader(test_data, batch_size=64, shuffle=True)"
   ]
  },
  {
   "cell_type": "markdown",
   "metadata": {},
   "source": [
    "## Train Single layer Dense Network"
   ]
  },
  {
   "cell_type": "markdown",
   "metadata": {},
   "source": [
    "### Define NN"
   ]
  },
  {
   "cell_type": "code",
   "execution_count": 9,
   "metadata": {},
   "outputs": [],
   "source": [
    "# Implement single dense layer neural network\n",
    "class MLP(nn.Module):\n",
    "    def __init__(self):\n",
    "        super(MLP, self).__init__()\n",
    "        self.hidden_layer = nn.Linear(12, 32)\n",
    "        self.activation = nn.ReLU()\n",
    "        self.output_layer = nn.Linear(32, 24)\n",
    "\n",
    "\n",
    "    def forward(self, x):\n",
    "        x = self.activation(self.hidden_layer(x))\n",
    "        return self.output_layer(x)"
   ]
  },
  {
   "cell_type": "markdown",
   "metadata": {},
   "source": [
    "### Training and validation"
   ]
  },
  {
   "cell_type": "code",
   "execution_count": 10,
   "metadata": {},
   "outputs": [
    {
     "name": "stderr",
     "output_type": "stream",
     "text": [
      "  1%|          | 1/100 [00:00<00:39,  2.52it/s]"
     ]
    },
    {
     "name": "stdout",
     "output_type": "stream",
     "text": [
      "Epoch 0 - Train loss: 2.393398740366435 - Train acc: 0.42519151723438314\n",
      "Epoch 0 - Test loss: 1.626157539053113 - Test acc: 0.6373633043304163\n"
     ]
    },
    {
     "name": "stderr",
     "output_type": "stream",
     "text": [
      "  2%|▏         | 2/100 [00:00<00:37,  2.63it/s]"
     ]
    },
    {
     "name": "stdout",
     "output_type": "stream",
     "text": [
      "Epoch 1 - Train loss: 1.2896396739600484 - Train acc: 0.6703958022220252\n",
      "Epoch 1 - Test loss: 1.0768134322466028 - Test acc: 0.7065001688702568\n"
     ]
    },
    {
     "name": "stderr",
     "output_type": "stream",
     "text": [
      "  3%|▎         | 3/100 [00:01<00:37,  2.59it/s]"
     ]
    },
    {
     "name": "stdout",
     "output_type": "stream",
     "text": [
      "Epoch 2 - Train loss: 0.9974314867113738 - Train acc: 0.7393380979518719\n",
      "Epoch 2 - Test loss: 0.93366174236018 - Test acc: 0.7615953808679631\n"
     ]
    },
    {
     "name": "stderr",
     "output_type": "stream",
     "text": [
      "  4%|▍         | 4/100 [00:01<00:37,  2.57it/s]"
     ]
    },
    {
     "name": "stdout",
     "output_type": "stream",
     "text": [
      "Epoch 3 - Train loss: 0.9087543506258806 - Train acc: 0.769307424001095\n",
      "Epoch 3 - Test loss: 0.8800226811963227 - Test acc: 0.780817218475941\n"
     ]
    },
    {
     "name": "stderr",
     "output_type": "stream",
     "text": [
      "  5%|▌         | 5/100 [00:01<00:36,  2.59it/s]"
     ]
    },
    {
     "name": "stdout",
     "output_type": "stream",
     "text": [
      "Epoch 4 - Train loss: 0.867934047841705 - Train acc: 0.7834104073689123\n",
      "Epoch 4 - Test loss: 0.8533343849069785 - Test acc: 0.787274636835328\n"
     ]
    },
    {
     "name": "stderr",
     "output_type": "stream",
     "text": [
      "  6%|▌         | 6/100 [00:02<00:36,  2.56it/s]"
     ]
    },
    {
     "name": "stdout",
     "output_type": "stream",
     "text": [
      "Epoch 5 - Train loss: 0.8460868637791663 - Train acc: 0.7902575361087183\n",
      "Epoch 5 - Test loss: 0.8357165212406538 - Test acc: 0.7880029765723263\n"
     ]
    },
    {
     "name": "stderr",
     "output_type": "stream",
     "text": [
      "  7%|▋         | 7/100 [00:02<00:35,  2.61it/s]"
     ]
    },
    {
     "name": "stdout",
     "output_type": "stream",
     "text": [
      "Epoch 6 - Train loss: 0.8322564611386826 - Train acc: 0.7935818385650224\n",
      "Epoch 6 - Test loss: 0.8241459224860705 - Test acc: 0.7899056323535779\n"
     ]
    },
    {
     "name": "stderr",
     "output_type": "stream",
     "text": [
      "  8%|▊         | 8/100 [00:03<00:35,  2.62it/s]"
     ]
    },
    {
     "name": "stdout",
     "output_type": "stream",
     "text": [
      "Epoch 7 - Train loss: 0.8220203750069366 - Train acc: 0.7973654708520179\n",
      "Epoch 7 - Test loss: 0.8138229828230373 - Test acc: 0.7941516425597106\n"
     ]
    },
    {
     "name": "stderr",
     "output_type": "stream",
     "text": [
      "  9%|▉         | 9/100 [00:03<00:36,  2.47it/s]"
     ]
    },
    {
     "name": "stdout",
     "output_type": "stream",
     "text": [
      "Epoch 8 - Train loss: 0.8136260450019964 - Train acc: 0.7998139325011472\n",
      "Epoch 8 - Test loss: 0.8088849784504056 - Test acc: 0.7973394484420098\n"
     ]
    },
    {
     "name": "stderr",
     "output_type": "stream",
     "text": [
      " 10%|█         | 10/100 [00:03<00:36,  2.48it/s]"
     ]
    },
    {
     "name": "stdout",
     "output_type": "stream",
     "text": [
      "Epoch 9 - Train loss: 0.8072523199389333 - Train acc: 0.80082990783747\n",
      "Epoch 9 - Test loss: 0.8028522615969493 - Test acc: 0.795603044370082\n"
     ]
    },
    {
     "name": "stderr",
     "output_type": "stream",
     "text": [
      " 11%|█         | 11/100 [00:04<00:35,  2.52it/s]"
     ]
    },
    {
     "name": "stdout",
     "output_type": "stream",
     "text": [
      "Epoch 10 - Train loss: 0.8015143623400162 - Train acc: 0.7999696374741371\n",
      "Epoch 10 - Test loss: 0.7980660421686022 - Test acc: 0.7970861130984042\n"
     ]
    },
    {
     "name": "stderr",
     "output_type": "stream",
     "text": [
      " 12%|█▏        | 12/100 [00:04<00:34,  2.58it/s]"
     ]
    },
    {
     "name": "stdout",
     "output_type": "stream",
     "text": [
      "Epoch 11 - Train loss: 0.7971839322102978 - Train acc: 0.8018303125963083\n",
      "Epoch 11 - Test loss: 0.7945579251381739 - Test acc: 0.7970861130984042\n"
     ]
    },
    {
     "name": "stderr",
     "output_type": "stream",
     "text": [
      " 13%|█▎        | 13/100 [00:05<00:34,  2.55it/s]"
     ]
    },
    {
     "name": "stdout",
     "output_type": "stream",
     "text": [
      "Epoch 12 - Train loss: 0.7919307955177376 - Train acc: 0.8021767563082177\n",
      "Epoch 12 - Test loss: 0.7900782598874956 - Test acc: 0.7989729352646473\n"
     ]
    },
    {
     "name": "stderr",
     "output_type": "stream",
     "text": [
      " 14%|█▍        | 14/100 [00:05<00:33,  2.54it/s]"
     ]
    },
    {
     "name": "stdout",
     "output_type": "stream",
     "text": [
      "Epoch 13 - Train loss: 0.7881970256567001 - Train acc: 0.8032394432433517\n",
      "Epoch 13 - Test loss: 0.7866450123761961 - Test acc: 0.8000311392764147\n"
     ]
    },
    {
     "name": "stderr",
     "output_type": "stream",
     "text": [
      " 15%|█▌        | 15/100 [00:05<00:33,  2.55it/s]"
     ]
    },
    {
     "name": "stdout",
     "output_type": "stream",
     "text": [
      "Epoch 14 - Train loss: 0.7851118087233984 - Train acc: 0.8031615906232141\n",
      "Epoch 14 - Test loss: 0.7829590954705683 - Test acc: 0.8015062911972326\n"
     ]
    },
    {
     "name": "stderr",
     "output_type": "stream",
     "text": [
      " 16%|█▌        | 16/100 [00:06<00:34,  2.42it/s]"
     ]
    },
    {
     "name": "stdout",
     "output_type": "stream",
     "text": [
      "Epoch 15 - Train loss: 0.7813508021457313 - Train acc: 0.8039089748677651\n",
      "Epoch 15 - Test loss: 0.7788574026205153 - Test acc: 0.8031424168516829\n"
     ]
    },
    {
     "name": "stderr",
     "output_type": "stream",
     "text": [
      " 17%|█▋        | 17/100 [00:06<00:33,  2.48it/s]"
     ]
    },
    {
     "name": "stdout",
     "output_type": "stream",
     "text": [
      "Epoch 16 - Train loss: 0.7779409418325253 - Train acc: 0.8038505854360726\n",
      "Epoch 16 - Test loss: 0.7754113716292755 - Test acc: 0.8020815740081029\n"
     ]
    },
    {
     "name": "stderr",
     "output_type": "stream",
     "text": [
      " 18%|█▊        | 18/100 [00:07<00:32,  2.49it/s]"
     ]
    },
    {
     "name": "stdout",
     "output_type": "stream",
     "text": [
      "Epoch 17 - Train loss: 0.7745639833500567 - Train acc: 0.8030564897263531\n",
      "Epoch 17 - Test loss: 0.7745725913509649 - Test acc: 0.8022504645492394\n"
     ]
    },
    {
     "name": "stderr",
     "output_type": "stream",
     "text": [
      " 19%|█▉        | 19/100 [00:07<00:32,  2.50it/s]"
     ]
    },
    {
     "name": "stdout",
     "output_type": "stream",
     "text": [
      "Epoch 18 - Train loss: 0.7714309599501135 - Train acc: 0.8056100522723433\n",
      "Epoch 18 - Test loss: 0.7711017983746155 - Test acc: 0.8031318612123659\n"
     ]
    },
    {
     "name": "stderr",
     "output_type": "stream",
     "text": [
      " 20%|██        | 20/100 [00:07<00:32,  2.43it/s]"
     ]
    },
    {
     "name": "stdout",
     "output_type": "stream",
     "text": [
      "Epoch 19 - Train loss: 0.7688643447219523 - Train acc: 0.804617432735426\n",
      "Epoch 19 - Test loss: 0.7688468097080111 - Test acc: 0.8029814431180504\n"
     ]
    },
    {
     "name": "stderr",
     "output_type": "stream",
     "text": [
      " 21%|██        | 21/100 [00:08<00:36,  2.14it/s]"
     ]
    },
    {
     "name": "stdout",
     "output_type": "stream",
     "text": [
      "Epoch 20 - Train loss: 0.7662358432339981 - Train acc: 0.805547770363333\n",
      "Epoch 20 - Test loss: 0.7665916469084655 - Test acc: 0.8026515791553477\n"
     ]
    },
    {
     "name": "stderr",
     "output_type": "stream",
     "text": [
      " 22%|██▏       | 22/100 [00:09<00:39,  1.97it/s]"
     ]
    },
    {
     "name": "stdout",
     "output_type": "stream",
     "text": [
      "Epoch 21 - Train loss: 0.7640356732858136 - Train acc: 0.8055438776187298\n",
      "Epoch 21 - Test loss: 0.7639169454262519 - Test acc: 0.8040449247934431\n"
     ]
    },
    {
     "name": "stderr",
     "output_type": "stream",
     "text": [
      " 23%|██▎       | 23/100 [00:09<00:40,  1.91it/s]"
     ]
    },
    {
     "name": "stdout",
     "output_type": "stream",
     "text": [
      "Epoch 22 - Train loss: 0.7614507848238197 - Train acc: 0.8058202540660653\n",
      "Epoch 22 - Test loss: 0.7622770273872695 - Test acc: 0.8038971458430065\n"
     ]
    },
    {
     "name": "stderr",
     "output_type": "stream",
     "text": [
      " 24%|██▍       | 24/100 [00:10<00:41,  1.85it/s]"
     ]
    },
    {
     "name": "stdout",
     "output_type": "stream",
     "text": [
      "Epoch 23 - Train loss: 0.7585170893792079 - Train acc: 0.8072215993575451\n",
      "Epoch 23 - Test loss: 0.7594942420877088 - Test acc: 0.8037097828550489\n"
     ]
    },
    {
     "name": "stderr",
     "output_type": "stream",
     "text": [
      " 25%|██▌       | 25/100 [00:10<00:43,  1.72it/s]"
     ]
    },
    {
     "name": "stdout",
     "output_type": "stream",
     "text": [
      "Epoch 24 - Train loss: 0.7559176819741459 - Train acc: 0.8067311285055272\n",
      "Epoch 24 - Test loss: 0.7575224221376848 - Test acc: 0.8023956046678633\n"
     ]
    },
    {
     "name": "stderr",
     "output_type": "stream",
     "text": [
      " 26%|██▌       | 26/100 [00:11<00:43,  1.70it/s]"
     ]
    },
    {
     "name": "stdout",
     "output_type": "stream",
     "text": [
      "Epoch 25 - Train loss: 0.7539558816250129 - Train acc: 0.8062328724315883\n",
      "Epoch 25 - Test loss: 0.7558717612196638 - Test acc: 0.8041293699079783\n"
     ]
    },
    {
     "name": "stderr",
     "output_type": "stream",
     "text": [
      " 27%|██▋       | 27/100 [00:12<00:41,  1.74it/s]"
     ]
    },
    {
     "name": "stdout",
     "output_type": "stream",
     "text": [
      "Epoch 26 - Train loss: 0.7518685027088285 - Train acc: 0.8066493834080718\n",
      "Epoch 26 - Test loss: 0.7541244835129584 - Test acc: 0.8037889503059586\n"
     ]
    },
    {
     "name": "stderr",
     "output_type": "stream",
     "text": [
      " 28%|██▊       | 28/100 [00:12<00:40,  1.77it/s]"
     ]
    },
    {
     "name": "stdout",
     "output_type": "stream",
     "text": [
      "Epoch 27 - Train loss: 0.7496649635613232 - Train acc: 0.8062289798206278\n",
      "Epoch 27 - Test loss: 0.7528086201682764 - Test acc: 0.8038786733961855\n"
     ]
    },
    {
     "name": "stderr",
     "output_type": "stream",
     "text": [
      " 29%|██▉       | 29/100 [00:13<00:39,  1.79it/s]"
     ]
    },
    {
     "name": "stdout",
     "output_type": "stream",
     "text": [
      "Epoch 28 - Train loss: 0.7471841890448412 - Train acc: 0.8069335450773282\n",
      "Epoch 28 - Test loss: 0.7488603022398125 - Test acc: 0.8041979817195712\n"
     ]
    },
    {
     "name": "stderr",
     "output_type": "stream",
     "text": [
      " 30%|███       | 30/100 [00:13<00:39,  1.77it/s]"
     ]
    },
    {
     "name": "stdout",
     "output_type": "stream",
     "text": [
      "Epoch 29 - Train loss: 0.7452954532319654 - Train acc: 0.8070347533632287\n",
      "Epoch 29 - Test loss: 0.7478800103926534 - Test acc: 0.8051875739197456\n"
     ]
    },
    {
     "name": "stderr",
     "output_type": "stream",
     "text": [
      " 31%|███       | 31/100 [00:14<00:49,  1.39it/s]"
     ]
    },
    {
     "name": "stdout",
     "output_type": "stream",
     "text": [
      "Epoch 30 - Train loss: 0.7431157965029301 - Train acc: 0.8072215993575451\n",
      "Epoch 30 - Test loss: 0.7470841772893336 - Test acc: 0.8036411713555222\n"
     ]
    },
    {
     "name": "stderr",
     "output_type": "stream",
     "text": [
      " 32%|███▏      | 32/100 [00:15<00:46,  1.46it/s]"
     ]
    },
    {
     "name": "stdout",
     "output_type": "stream",
     "text": [
      "Epoch 31 - Train loss: 0.7416241893987484 - Train acc: 0.8072838814001981\n",
      "Epoch 31 - Test loss: 0.7457315798517297 - Test acc: 0.8042085373588882\n"
     ]
    },
    {
     "name": "stderr",
     "output_type": "stream",
     "text": [
      " 33%|███▎      | 33/100 [00:16<00:43,  1.53it/s]"
     ]
    },
    {
     "name": "stdout",
     "output_type": "stream",
     "text": [
      "Epoch 32 - Train loss: 0.739498506145627 - Train acc: 0.8072838814001981\n",
      "Epoch 32 - Test loss: 0.7437906803572989 - Test acc: 0.8038786733961855\n"
     ]
    },
    {
     "name": "stderr",
     "output_type": "stream",
     "text": [
      " 34%|███▍      | 34/100 [00:16<00:41,  1.60it/s]"
     ]
    },
    {
     "name": "stdout",
     "output_type": "stream",
     "text": [
      "Epoch 33 - Train loss: 0.7376444700587491 - Train acc: 0.8082103264171446\n",
      "Epoch 33 - Test loss: 0.7436683307455473 - Test acc: 0.8054145203210921\n"
     ]
    },
    {
     "name": "stderr",
     "output_type": "stream",
     "text": [
      " 35%|███▌      | 35/100 [00:17<00:39,  1.65it/s]"
     ]
    },
    {
     "name": "stdout",
     "output_type": "stream",
     "text": [
      "Epoch 34 - Train loss: 0.735872521796034 - Train acc: 0.8085723405728961\n",
      "Epoch 34 - Test loss: 0.7400481151660699 - Test acc: 0.8047811813379457\n"
     ]
    },
    {
     "name": "stderr",
     "output_type": "stream",
     "text": [
      " 36%|███▌      | 36/100 [00:17<00:37,  1.70it/s]"
     ]
    },
    {
     "name": "stdout",
     "output_type": "stream",
     "text": [
      "Epoch 35 - Train loss: 0.7339495323899081 - Train acc: 0.8090667040358744\n",
      "Epoch 35 - Test loss: 0.7391502772950377 - Test acc: 0.8047811813379457\n"
     ]
    },
    {
     "name": "stderr",
     "output_type": "stream",
     "text": [
      " 37%|███▋      | 37/100 [00:18<00:36,  1.71it/s]"
     ]
    },
    {
     "name": "stdout",
     "output_type": "stream",
     "text": [
      "Epoch 36 - Train loss: 0.7319719457973813 - Train acc: 0.8096311347634269\n",
      "Epoch 36 - Test loss: 0.737842756416161 - Test acc: 0.8068368940453254\n"
     ]
    },
    {
     "name": "stderr",
     "output_type": "stream",
     "text": [
      " 38%|███▊      | 38/100 [00:18<00:35,  1.74it/s]"
     ]
    },
    {
     "name": "stdout",
     "output_type": "stream",
     "text": [
      "Epoch 37 - Train loss: 0.7299775532008287 - Train acc: 0.8096155643195849\n",
      "Epoch 37 - Test loss: 0.7377759102751448 - Test acc: 0.8065017521069312\n"
     ]
    },
    {
     "name": "stderr",
     "output_type": "stream",
     "text": [
      " 39%|███▉      | 39/100 [00:19<00:34,  1.77it/s]"
     ]
    },
    {
     "name": "stdout",
     "output_type": "stream",
     "text": [
      "Epoch 38 - Train loss: 0.7287248765941158 - Train acc: 0.8088720726859944\n",
      "Epoch 38 - Test loss: 0.7350073768830424 - Test acc: 0.8065624471110199\n"
     ]
    },
    {
     "name": "stderr",
     "output_type": "stream",
     "text": [
      " 40%|████      | 40/100 [00:19<00:33,  1.79it/s]"
     ]
    },
    {
     "name": "stdout",
     "output_type": "stream",
     "text": [
      "Epoch 39 - Train loss: 0.7272330120940914 - Train acc: 0.8101332834483262\n",
      "Epoch 39 - Test loss: 0.7350797770223069 - Test acc: 0.8076496792089253\n"
     ]
    },
    {
     "name": "stderr",
     "output_type": "stream",
     "text": [
      " 41%|████      | 41/100 [00:20<00:32,  1.81it/s]"
     ]
    },
    {
     "name": "stdout",
     "output_type": "stream",
     "text": [
      "Epoch 40 - Train loss: 0.7256436444852384 - Train acc: 0.8091212008566065\n",
      "Epoch 40 - Test loss: 0.7332930691267183 - Test acc: 0.8066600870087509\n"
     ]
    },
    {
     "name": "stderr",
     "output_type": "stream",
     "text": [
      " 42%|████▏     | 42/100 [00:21<00:31,  1.81it/s]"
     ]
    },
    {
     "name": "stdout",
     "output_type": "stream",
     "text": [
      "Epoch 41 - Train loss: 0.7238861755405306 - Train acc: 0.8106276470449473\n",
      "Epoch 41 - Test loss: 0.7318459287363821 - Test acc: 0.8061692493124158\n"
     ]
    },
    {
     "name": "stderr",
     "output_type": "stream",
     "text": [
      " 43%|████▎     | 43/100 [00:21<00:33,  1.69it/s]"
     ]
    },
    {
     "name": "stdout",
     "output_type": "stream",
     "text": [
      "Epoch 42 - Train loss: 0.7225171732528327 - Train acc: 0.8109779833678172\n",
      "Epoch 42 - Test loss: 0.731351447979193 - Test acc: 0.8072300921559958\n"
     ]
    },
    {
     "name": "stderr",
     "output_type": "stream",
     "text": [
      " 44%|████▍     | 44/100 [00:22<00:32,  1.72it/s]"
     ]
    },
    {
     "name": "stdout",
     "output_type": "stream",
     "text": [
      "Epoch 43 - Train loss: 0.7209458682569153 - Train acc: 0.8107794594069767\n",
      "Epoch 43 - Test loss: 0.730563690681108 - Test acc: 0.8064305014635256\n"
     ]
    },
    {
     "name": "stderr",
     "output_type": "stream",
     "text": [
      " 45%|████▌     | 45/100 [00:22<00:31,  1.75it/s]"
     ]
    },
    {
     "name": "stdout",
     "output_type": "stream",
     "text": [
      "Epoch 44 - Train loss: 0.7202176807840843 - Train acc: 0.8109001307476796\n",
      "Epoch 44 - Test loss: 0.728926458751968 - Test acc: 0.8055992441651709\n"
     ]
    },
    {
     "name": "stderr",
     "output_type": "stream",
     "text": [
      " 46%|████▌     | 46/100 [00:23<00:30,  1.75it/s]"
     ]
    },
    {
     "name": "stdout",
     "output_type": "stream",
     "text": [
      "Epoch 45 - Train loss: 0.7183610432083831 - Train acc: 0.8107483183856502\n",
      "Epoch 45 - Test loss: 0.7271258111711572 - Test acc: 0.8073171761023437\n"
     ]
    },
    {
     "name": "stderr",
     "output_type": "stream",
     "text": [
      " 47%|████▋     | 47/100 [00:23<00:30,  1.75it/s]"
     ]
    },
    {
     "name": "stdout",
     "output_type": "stream",
     "text": [
      "Epoch 46 - Train loss: 0.7169596865572737 - Train acc: 0.8118966430292002\n",
      "Epoch 46 - Test loss: 0.727487161209446 - Test acc: 0.8069081446887311\n"
     ]
    },
    {
     "name": "stderr",
     "output_type": "stream",
     "text": [
      " 48%|████▊     | 48/100 [00:24<00:29,  1.76it/s]"
     ]
    },
    {
     "name": "stdout",
     "output_type": "stream",
     "text": [
      "Epoch 47 - Train loss: 0.7154033099188398 - Train acc: 0.8111375809517677\n",
      "Epoch 47 - Test loss: 0.72542285997206 - Test acc: 0.8066706426480678\n"
     ]
    },
    {
     "name": "stderr",
     "output_type": "stream",
     "text": [
      " 49%|████▉     | 49/100 [00:25<00:28,  1.77it/s]"
     ]
    },
    {
     "name": "stdout",
     "output_type": "stream",
     "text": [
      "Epoch 48 - Train loss: 0.7140537024613454 - Train acc: 0.8120367775583481\n",
      "Epoch 48 - Test loss: 0.7253298235189228 - Test acc: 0.8069055058569184\n"
     ]
    },
    {
     "name": "stderr",
     "output_type": "stream",
     "text": [
      " 50%|█████     | 50/100 [00:25<00:27,  1.79it/s]"
     ]
    },
    {
     "name": "stdout",
     "output_type": "stream",
     "text": [
      "Epoch 49 - Train loss: 0.712627662270593 - Train acc: 0.8112582524261133\n",
      "Epoch 49 - Test loss: 0.7234253527606345 - Test acc: 0.8080639882861632\n"
     ]
    },
    {
     "name": "stderr",
     "output_type": "stream",
     "text": [
      " 51%|█████     | 51/100 [00:26<00:27,  1.78it/s]"
     ]
    },
    {
     "name": "stdout",
     "output_type": "stream",
     "text": [
      "Epoch 50 - Train loss: 0.7111803386109827 - Train acc: 0.8124688589786735\n",
      "Epoch 50 - Test loss: 0.7232746633247555 - Test acc: 0.8073884267457493\n"
     ]
    },
    {
     "name": "stderr",
     "output_type": "stream",
     "text": [
      " 52%|█████▏    | 52/100 [00:26<00:26,  1.80it/s]"
     ]
    },
    {
     "name": "stdout",
     "output_type": "stream",
     "text": [
      "Epoch 51 - Train loss: 0.7099839638033255 - Train acc: 0.8128581215447909\n",
      "Epoch 51 - Test loss: 0.7219303453155838 - Test acc: 0.8082144063804786\n"
     ]
    },
    {
     "name": "stderr",
     "output_type": "stream",
     "text": [
      " 53%|█████▎    | 53/100 [00:27<00:25,  1.81it/s]"
     ]
    },
    {
     "name": "stdout",
     "output_type": "stream",
     "text": [
      "Epoch 52 - Train loss: 0.7096098561858917 - Train acc: 0.8123404022824069\n",
      "Epoch 52 - Test loss: 0.7211817760430081 - Test acc: 0.8079821820034406\n"
     ]
    },
    {
     "name": "stderr",
     "output_type": "stream",
     "text": [
      " 54%|█████▍    | 54/100 [00:27<00:25,  1.83it/s]"
     ]
    },
    {
     "name": "stdout",
     "output_type": "stream",
     "text": [
      "Epoch 53 - Train loss: 0.70810278114182 - Train acc: 0.8131033569707998\n",
      "Epoch 53 - Test loss: 0.7211602297440873 - Test acc: 0.8091960817731488\n"
     ]
    },
    {
     "name": "stderr",
     "output_type": "stream",
     "text": [
      " 55%|█████▌    | 55/100 [00:28<00:24,  1.84it/s]"
     ]
    },
    {
     "name": "stdout",
     "output_type": "stream",
     "text": [
      "Epoch 54 - Train loss: 0.7068912853975468 - Train acc: 0.8116786560135572\n",
      "Epoch 54 - Test loss: 0.718089159870647 - Test acc: 0.8076470400650464\n"
     ]
    },
    {
     "name": "stderr",
     "output_type": "stream",
     "text": [
      " 56%|█████▌    | 56/100 [00:28<00:23,  1.84it/s]"
     ]
    },
    {
     "name": "stdout",
     "output_type": "stream",
     "text": [
      "Epoch 55 - Train loss: 0.7057664522675655 - Train acc: 0.8127491280369694\n",
      "Epoch 55 - Test loss: 0.7176218978397509 - Test acc: 0.809029830375891\n"
     ]
    },
    {
     "name": "stderr",
     "output_type": "stream",
     "text": [
      " 57%|█████▋    | 57/100 [00:29<00:23,  1.85it/s]"
     ]
    },
    {
     "name": "stdout",
     "output_type": "stream",
     "text": [
      "Epoch 56 - Train loss: 0.704278556287556 - Train acc: 0.8132979883206799\n",
      "Epoch 56 - Test loss: 0.7164552793764943 - Test acc: 0.8086207989622786\n"
     ]
    },
    {
     "name": "stderr",
     "output_type": "stream",
     "text": [
      " 58%|█████▊    | 58/100 [00:29<00:22,  1.85it/s]"
     ]
    },
    {
     "name": "stdout",
     "output_type": "stream",
     "text": [
      "Epoch 57 - Train loss: 0.7036376209937938 - Train acc: 0.8126167787297425\n",
      "Epoch 57 - Test loss: 0.7155408846770281 - Test acc: 0.808710521740439\n"
     ]
    },
    {
     "name": "stderr",
     "output_type": "stream",
     "text": [
      " 59%|█████▉    | 59/100 [00:30<00:22,  1.85it/s]"
     ]
    },
    {
     "name": "stdout",
     "output_type": "stream",
     "text": [
      "Epoch 58 - Train loss: 0.7032422835650466 - Train acc: 0.8139441641456878\n",
      "Epoch 58 - Test loss: 0.7149955904920687 - Test acc: 0.8087949671670405\n"
     ]
    },
    {
     "name": "stderr",
     "output_type": "stream",
     "text": [
      " 60%|██████    | 60/100 [00:31<00:21,  1.86it/s]"
     ]
    },
    {
     "name": "stdout",
     "output_type": "stream",
     "text": [
      "Epoch 59 - Train loss: 0.7008099958901982 - Train acc: 0.8132045652567004\n",
      "Epoch 59 - Test loss: 0.7152819020273797 - Test acc: 0.8086260766259039\n"
     ]
    },
    {
     "name": "stderr",
     "output_type": "stream",
     "text": [
      " 61%|██████    | 61/100 [00:31<00:20,  1.86it/s]"
     ]
    },
    {
     "name": "stdout",
     "output_type": "stream",
     "text": [
      "Epoch 60 - Train loss: 0.7003924647521546 - Train acc: 0.813535438524768\n",
      "Epoch 60 - Test loss: 0.7138460247304427 - Test acc: 0.8088714954740714\n"
     ]
    },
    {
     "name": "stderr",
     "output_type": "stream",
     "text": [
      " 62%|██████▏   | 62/100 [00:32<00:21,  1.81it/s]"
     ]
    },
    {
     "name": "stdout",
     "output_type": "stream",
     "text": [
      "Epoch 61 - Train loss: 0.6995919940851194 - Train acc: 0.8138546338263114\n",
      "Epoch 61 - Test loss: 0.7132968529668778 - Test acc: 0.8091908037974572\n"
     ]
    },
    {
     "name": "stderr",
     "output_type": "stream",
     "text": [
      " 63%|██████▎   | 63/100 [00:32<00:20,  1.80it/s]"
     ]
    },
    {
     "name": "stdout",
     "output_type": "stream",
     "text": [
      "Epoch 62 - Train loss: 0.6979737782959446 - Train acc: 0.8141777217388153\n",
      "Epoch 62 - Test loss: 0.7117703536730162 - Test acc: 0.8087078829086264\n"
     ]
    },
    {
     "name": "stderr",
     "output_type": "stream",
     "text": [
      " 64%|██████▍   | 64/100 [00:33<00:19,  1.82it/s]"
     ]
    },
    {
     "name": "stdout",
     "output_type": "stream",
     "text": [
      "Epoch 63 - Train loss: 0.6981478151385025 - Train acc: 0.8130761085604339\n",
      "Epoch 63 - Test loss: 0.7114517368883363 - Test acc: 0.811410129070282\n"
     ]
    },
    {
     "name": "stderr",
     "output_type": "stream",
     "text": [
      " 65%|██████▌   | 65/100 [00:33<00:19,  1.83it/s]"
     ]
    },
    {
     "name": "stdout",
     "output_type": "stream",
     "text": [
      "Epoch 64 - Train loss: 0.6952787981172314 - Train acc: 0.8149757100594952\n",
      "Epoch 64 - Test loss: 0.711427990210618 - Test acc: 0.8088583010029419\n"
     ]
    },
    {
     "name": "stderr",
     "output_type": "stream",
     "text": [
      " 66%|██████▌   | 66/100 [00:34<00:18,  1.84it/s]"
     ]
    },
    {
     "name": "stdout",
     "output_type": "stream",
     "text": [
      "Epoch 65 - Train loss: 0.6949084338986821 - Train acc: 0.8142633594472312\n",
      "Epoch 65 - Test loss: 0.7106638603809616 - Test acc: 0.809676363830167\n"
     ]
    },
    {
     "name": "stderr",
     "output_type": "stream",
     "text": [
      " 67%|██████▋   | 67/100 [00:34<00:17,  1.84it/s]"
     ]
    },
    {
     "name": "stdout",
     "output_type": "stream",
     "text": [
      "Epoch 66 - Train loss: 0.6943881038593069 - Train acc: 0.8142594668362707\n",
      "Epoch 66 - Test loss: 0.7087424548820676 - Test acc: 0.8113177671482426\n"
     ]
    },
    {
     "name": "stderr",
     "output_type": "stream",
     "text": [
      " 68%|██████▊   | 68/100 [00:35<00:17,  1.86it/s]"
     ]
    },
    {
     "name": "stdout",
     "output_type": "stream",
     "text": [
      "Epoch 67 - Train loss: 0.6941726670136901 - Train acc: 0.8153649726256127\n",
      "Epoch 67 - Test loss: 0.7083629647474639 - Test acc: 0.8112465165048369\n"
     ]
    },
    {
     "name": "stderr",
     "output_type": "stream",
     "text": [
      " 69%|██████▉   | 69/100 [00:35<00:16,  1.86it/s]"
     ]
    },
    {
     "name": "stdout",
     "output_type": "stream",
     "text": [
      "Epoch 68 - Train loss: 0.6926393170126885 - Train acc: 0.8148745017735948\n",
      "Epoch 68 - Test loss: 0.7076490750799629 - Test acc: 0.8106501224153329\n"
     ]
    },
    {
     "name": "stderr",
     "output_type": "stream",
     "text": [
      " 70%|███████   | 70/100 [00:36<00:16,  1.83it/s]"
     ]
    },
    {
     "name": "stdout",
     "output_type": "stream",
     "text": [
      "Epoch 69 - Train loss: 0.691188827424306 - Train acc: 0.8158165172343831\n",
      "Epoch 69 - Test loss: 0.706771084307376 - Test acc: 0.8119036059104959\n"
     ]
    },
    {
     "name": "stderr",
     "output_type": "stream",
     "text": [
      " 71%|███████   | 71/100 [00:37<00:15,  1.84it/s]"
     ]
    },
    {
     "name": "stdout",
     "output_type": "stream",
     "text": [
      "Epoch 70 - Train loss: 0.6906286307648158 - Train acc: 0.8146020179372198\n",
      "Epoch 70 - Test loss: 0.7081927129735497 - Test acc: 0.8101751183340062\n"
     ]
    },
    {
     "name": "stderr",
     "output_type": "stream",
     "text": [
      " 72%|███████▏  | 72/100 [00:37<00:15,  1.85it/s]"
     ]
    },
    {
     "name": "stdout",
     "output_type": "stream",
     "text": [
      "Epoch 71 - Train loss: 0.6894433000563506 - Train acc: 0.8162330282108666\n",
      "Epoch 71 - Test loss: 0.7080826185136565 - Test acc: 0.8111515157509849\n"
     ]
    },
    {
     "name": "stderr",
     "output_type": "stream",
     "text": [
      " 73%|███████▎  | 73/100 [00:38<00:14,  1.85it/s]"
     ]
    },
    {
     "name": "stdout",
     "output_type": "stream",
     "text": [
      "Epoch 72 - Train loss: 0.6891221766915556 - Train acc: 0.8151275224215246\n",
      "Epoch 72 - Test loss: 0.7053861653929605 - Test acc: 0.8114945744968833\n"
     ]
    },
    {
     "name": "stderr",
     "output_type": "stream",
     "text": [
      " 74%|███████▍  | 74/100 [00:38<00:14,  1.83it/s]"
     ]
    },
    {
     "name": "stdout",
     "output_type": "stream",
     "text": [
      "Epoch 73 - Train loss: 0.6876843473435518 - Train acc: 0.8160578600494316\n",
      "Epoch 73 - Test loss: 0.7054101879372022 - Test acc: 0.8130515327004237\n"
     ]
    },
    {
     "name": "stderr",
     "output_type": "stream",
     "text": [
      " 75%|███████▌  | 75/100 [00:39<00:13,  1.84it/s]"
     ]
    },
    {
     "name": "stdout",
     "output_type": "stream",
     "text": [
      "Epoch 74 - Train loss: 0.686581217387332 - Train acc: 0.8151236298105642\n",
      "Epoch 74 - Test loss: 0.7038123754306613 - Test acc: 0.8124868055288704\n"
     ]
    },
    {
     "name": "stderr",
     "output_type": "stream",
     "text": [
      " 76%|███████▌  | 76/100 [00:39<00:13,  1.85it/s]"
     ]
    },
    {
     "name": "stdout",
     "output_type": "stream",
     "text": [
      "Epoch 75 - Train loss: 0.6866225970432898 - Train acc: 0.816517189880123\n",
      "Epoch 75 - Test loss: 0.7030535529109196 - Test acc: 0.812056662836624\n"
     ]
    },
    {
     "name": "stderr",
     "output_type": "stream",
     "text": [
      " 77%|███████▋  | 77/100 [00:40<00:12,  1.85it/s]"
     ]
    },
    {
     "name": "stdout",
     "output_type": "stream",
     "text": [
      "Epoch 76 - Train loss: 0.6855956204402607 - Train acc: 0.8162291354662634\n",
      "Epoch 76 - Test loss: 0.7030475397072538 - Test acc: 0.8122915260454747\n"
     ]
    },
    {
     "name": "stderr",
     "output_type": "stream",
     "text": [
      " 78%|███████▊  | 78/100 [00:40<00:11,  1.86it/s]"
     ]
    },
    {
     "name": "stdout",
     "output_type": "stream",
     "text": [
      "Epoch 77 - Train loss: 0.6847939680376395 - Train acc: 0.8162563838766295\n",
      "Epoch 77 - Test loss: 0.7026104139095826 - Test acc: 0.8112359608655201\n"
     ]
    },
    {
     "name": "stderr",
     "output_type": "stream",
     "text": [
      " 79%|███████▉  | 79/100 [00:41<00:11,  1.86it/s]"
     ]
    },
    {
     "name": "stdout",
     "output_type": "stream",
     "text": [
      "Epoch 78 - Train loss: 0.6841131449413941 - Train acc: 0.8163030954754406\n",
      "Epoch 78 - Test loss: 0.7018452828155138 - Test acc: 0.8127955582129394\n"
     ]
    },
    {
     "name": "stderr",
     "output_type": "stream",
     "text": [
      " 80%|████████  | 80/100 [00:41<00:10,  1.86it/s]"
     ]
    },
    {
     "name": "stdout",
     "output_type": "stream",
     "text": [
      "Epoch 79 - Train loss: 0.6832841993581019 - Train acc: 0.8164004110167379\n",
      "Epoch 79 - Test loss: 0.7008720656652101 - Test acc: 0.8131095888726998\n"
     ]
    },
    {
     "name": "stderr",
     "output_type": "stream",
     "text": [
      " 81%|████████  | 81/100 [00:42<00:10,  1.87it/s]"
     ]
    },
    {
     "name": "stdout",
     "output_type": "stream",
     "text": [
      "Epoch 80 - Train loss: 0.6821855765019832 - Train acc: 0.8162330282108666\n",
      "Epoch 80 - Test loss: 0.6999384100836609 - Test acc: 0.8131201445120168\n"
     ]
    },
    {
     "name": "stderr",
     "output_type": "stream",
     "text": [
      " 82%|████████▏ | 82/100 [00:42<00:09,  1.87it/s]"
     ]
    },
    {
     "name": "stdout",
     "output_type": "stream",
     "text": [
      "Epoch 81 - Train loss: 0.6815363371853337 - Train acc: 0.8160578600494316\n",
      "Epoch 81 - Test loss: 0.6995875134830075 - Test acc: 0.8124472218034156\n"
     ]
    },
    {
     "name": "stderr",
     "output_type": "stream",
     "text": [
      " 83%|████████▎ | 83/100 [00:43<00:09,  1.88it/s]"
     ]
    },
    {
     "name": "stdout",
     "output_type": "stream",
     "text": [
      "Epoch 82 - Train loss: 0.6806966502703893 - Train acc: 0.8165755791781729\n",
      "Epoch 82 - Test loss: 0.7005137916634844 - Test acc: 0.8126293068156817\n"
     ]
    },
    {
     "name": "stderr",
     "output_type": "stream",
     "text": [
      " 84%|████████▍ | 84/100 [00:44<00:08,  1.88it/s]"
     ]
    },
    {
     "name": "stdout",
     "output_type": "stream",
     "text": [
      "Epoch 83 - Train loss: 0.6798806304087018 - Train acc: 0.8176382661133069\n",
      "Epoch 83 - Test loss: 0.6996684320934156 - Test acc: 0.8141044587364996\n"
     ]
    },
    {
     "name": "stderr",
     "output_type": "stream",
     "text": [
      " 85%|████████▌ | 85/100 [00:44<00:07,  1.88it/s]"
     ]
    },
    {
     "name": "stdout",
     "output_type": "stream",
     "text": [
      "Epoch 84 - Train loss: 0.6794630676641592 - Train acc: 0.8158710139214725\n",
      "Epoch 84 - Test loss: 0.6977259610335864 - Test acc: 0.8135265367817505\n"
     ]
    },
    {
     "name": "stderr",
     "output_type": "stream",
     "text": [
      " 86%|████████▌ | 86/100 [00:45<00:07,  1.86it/s]"
     ]
    },
    {
     "name": "stdout",
     "output_type": "stream",
     "text": [
      "Epoch 85 - Train loss: 0.6782816605717612 - Train acc: 0.8169181302791219\n",
      "Epoch 85 - Test loss: 0.6987866259994308 - Test acc: 0.8118033271809523\n"
     ]
    },
    {
     "name": "stderr",
     "output_type": "stream",
     "text": [
      " 87%|████████▋ | 87/100 [00:46<00:08,  1.47it/s]"
     ]
    },
    {
     "name": "stdout",
     "output_type": "stream",
     "text": [
      "Epoch 86 - Train loss: 0.6774728899579412 - Train acc: 0.817042694364428\n",
      "Epoch 86 - Test loss: 0.6978566877504918 - Test acc: 0.8118033271809523\n"
     ]
    },
    {
     "name": "stderr",
     "output_type": "stream",
     "text": [
      " 88%|████████▊ | 88/100 [00:46<00:08,  1.48it/s]"
     ]
    },
    {
     "name": "stdout",
     "output_type": "stream",
     "text": [
      "Epoch 87 - Train loss: 0.6774656395072894 - Train acc: 0.8175720914596935\n",
      "Epoch 87 - Test loss: 0.6960595499782662 - Test acc: 0.8125501393647718\n"
     ]
    },
    {
     "name": "stderr",
     "output_type": "stream",
     "text": [
      " 89%|████████▉ | 89/100 [00:47<00:07,  1.48it/s]"
     ]
    },
    {
     "name": "stdout",
     "output_type": "stream",
     "text": [
      "Epoch 88 - Train loss: 0.6766764195510625 - Train acc: 0.8178951793721974\n",
      "Epoch 88 - Test loss: 0.6954224257881104 - Test acc: 0.812798197044752\n"
     ]
    },
    {
     "name": "stderr",
     "output_type": "stream",
     "text": [
      " 90%|█████████ | 90/100 [00:48<00:06,  1.45it/s]"
     ]
    },
    {
     "name": "stdout",
     "output_type": "stream",
     "text": [
      "Epoch 89 - Train loss: 0.675888595025101 - Train acc: 0.8170582648082699\n",
      "Epoch 89 - Test loss: 0.6955075881868132 - Test acc: 0.8132098672901773\n"
     ]
    },
    {
     "name": "stderr",
     "output_type": "stream",
     "text": [
      " 91%|█████████ | 91/100 [00:48<00:06,  1.42it/s]"
     ]
    },
    {
     "name": "stdout",
     "output_type": "stream",
     "text": [
      "Epoch 90 - Train loss: 0.6752195119724146 - Train acc: 0.8181520926310877\n",
      "Epoch 90 - Test loss: 0.6979287830010759 - Test acc: 0.8120698573077536\n"
     ]
    },
    {
     "name": "stderr",
     "output_type": "stream",
     "text": [
      " 92%|█████████▏| 92/100 [00:49<00:05,  1.48it/s]"
     ]
    },
    {
     "name": "stdout",
     "output_type": "stream",
     "text": [
      "Epoch 91 - Train loss: 0.6747500339832007 - Train acc: 0.8186659192825112\n",
      "Epoch 91 - Test loss: 0.6956410342486117 - Test acc: 0.8137745947737969\n"
     ]
    },
    {
     "name": "stderr",
     "output_type": "stream",
     "text": [
      " 93%|█████████▎| 93/100 [00:50<00:04,  1.48it/s]"
     ]
    },
    {
     "name": "stdout",
     "output_type": "stream",
     "text": [
      "Epoch 92 - Train loss: 0.6742555061396996 - Train acc: 0.8180898107220774\n",
      "Epoch 92 - Test loss: 0.6931414807030044 - Test acc: 0.8141836261874094\n"
     ]
    },
    {
     "name": "stderr",
     "output_type": "stream",
     "text": [
      " 94%|█████████▍| 94/100 [00:50<00:03,  1.50it/s]"
     ]
    },
    {
     "name": "stdout",
     "output_type": "stream",
     "text": [
      "Epoch 93 - Train loss: 0.6734984309283073 - Train acc: 0.8178796089283554\n",
      "Epoch 93 - Test loss: 0.6947000621188998 - Test acc: 0.814033208093094\n"
     ]
    },
    {
     "name": "stderr",
     "output_type": "stream",
     "text": [
      " 95%|█████████▌| 95/100 [00:51<00:03,  1.56it/s]"
     ]
    },
    {
     "name": "stdout",
     "output_type": "stream",
     "text": [
      "Epoch 94 - Train loss: 0.6731563655517561 - Train acc: 0.8181754484304933\n",
      "Epoch 94 - Test loss: 0.6932910496651814 - Test acc: 0.8143419607771629\n"
     ]
    },
    {
     "name": "stderr",
     "output_type": "stream",
     "text": [
      " 96%|█████████▌| 96/100 [00:51<00:02,  1.63it/s]"
     ]
    },
    {
     "name": "stdout",
     "output_type": "stream",
     "text": [
      "Epoch 95 - Train loss: 0.672066848307447 - Train acc: 0.8176343735023465\n",
      "Epoch 95 - Test loss: 0.6927410730828789 - Test acc: 0.812798197044752\n"
     ]
    },
    {
     "name": "stderr",
     "output_type": "stream",
     "text": [
      " 97%|█████████▋| 97/100 [00:52<00:01,  1.69it/s]"
     ]
    },
    {
     "name": "stdout",
     "output_type": "stream",
     "text": [
      "Epoch 96 - Train loss: 0.671749694064059 - Train acc: 0.8190707524261133\n",
      "Epoch 96 - Test loss: 0.6919278207561732 - Test acc: 0.8134552861383448\n"
     ]
    },
    {
     "name": "stderr",
     "output_type": "stream",
     "text": [
      " 98%|█████████▊| 98/100 [00:53<00:01,  1.73it/s]"
     ]
    },
    {
     "name": "stdout",
     "output_type": "stream",
     "text": [
      "Epoch 97 - Train loss: 0.670640099075343 - Train acc: 0.8186542414496297\n",
      "Epoch 97 - Test loss: 0.6916777959668824 - Test acc: 0.8137666779662927\n"
     ]
    },
    {
     "name": "stderr",
     "output_type": "stream",
     "text": [
      " 99%|█████████▉| 99/100 [00:53<00:00,  1.76it/s]"
     ]
    },
    {
     "name": "stdout",
     "output_type": "stream",
     "text": [
      "Epoch 98 - Train loss: 0.6700179188641732 - Train acc: 0.8177861858643758\n",
      "Epoch 98 - Test loss: 0.692470319296053 - Test acc: 0.812972365249514\n"
     ]
    },
    {
     "name": "stderr",
     "output_type": "stream",
     "text": [
      "100%|██████████| 100/100 [00:54<00:00,  1.85it/s]"
     ]
    },
    {
     "name": "stdout",
     "output_type": "stream",
     "text": [
      "Epoch 99 - Train loss: 0.6702451017004492 - Train acc: 0.8196157199652205\n",
      "Epoch 99 - Test loss: 0.6917882614734909 - Test acc: 0.8133629242163054\n"
     ]
    },
    {
     "name": "stderr",
     "output_type": "stream",
     "text": [
      "\n"
     ]
    }
   ],
   "source": [
    "model = MLP().to(device)\n",
    "optimizer = torch.optim.Adam(model.parameters())\n",
    "criterion = nn.CrossEntropyLoss()\n",
    "\n",
    "num_epochs = 100\n",
    "train_losses = []\n",
    "train_accs = []\n",
    "test_losses = []\n",
    "test_accs = []\n",
    "\n",
    "# Loop over epochs\n",
    "for epoch in tqdm(range(num_epochs)):\n",
    "    epoch_train_loss = []\n",
    "    epoch_train_acc = []\n",
    "    epoch_test_loss = []\n",
    "    epoch_test_acc = []\n",
    "    \n",
    "    # Training\n",
    "    model.train()\n",
    "    for local_batch, local_labels in train_dataloader:\n",
    "\n",
    "        X_batch, y_batch = local_batch.to(device), local_labels.to(device)\n",
    "\n",
    "        # forward pass\n",
    "        y_pred = model(X_batch)\n",
    "        loss = criterion(y_pred, y_batch)\n",
    "\n",
    "        # backward pass\n",
    "        optimizer.zero_grad()\n",
    "        loss.backward()\n",
    "\n",
    "        # update weights\n",
    "        optimizer.step()\n",
    "\n",
    "        # compute train metrics\n",
    "        acc = (torch.argmax(y_pred, 1) == y_batch).float().mean()\n",
    "        epoch_train_loss.append(float(loss))\n",
    "        epoch_train_acc.append(float(acc))\n",
    "\n",
    "    # Aggregate batch metrics\n",
    "    train_losses.append(np.mean(epoch_train_loss))\n",
    "    train_accs.append(np.mean(epoch_train_acc))\n",
    "    print(f\"Epoch {epoch} - Train loss: {train_losses[-1]} - Train acc: {train_accs[-1]}\")\n",
    "\n",
    "    # Validation\n",
    "    model.eval()\n",
    "    for local_batch, local_labels in test_dataloader:\n",
    "        X_batch, y_batch = local_batch.to(device), local_labels.to(device)\n",
    "\n",
    "        y_pred = model(X_batch)\n",
    "        cross_entropy_loss = criterion(y_pred, y_batch)\n",
    "\n",
    "        # compute test metrics\n",
    "        acc = (torch.argmax(y_pred, 1) == y_batch).float().mean()\n",
    "        epoch_test_loss.append(float(cross_entropy_loss))\n",
    "        epoch_test_acc.append(float(acc))\n",
    "\n",
    "    # Aggregate batch metrics  \n",
    "    test_losses.append(np.mean(epoch_test_loss))\n",
    "    test_accs.append(np.mean(epoch_test_acc))\n",
    "    print(f\"Epoch {epoch} - Test loss: {test_losses[-1]} - Test acc: {test_accs[-1]}\")\n"
   ]
  },
  {
   "cell_type": "markdown",
   "metadata": {},
   "source": [
    "## Plot training and test loss and accuracy by epoch"
   ]
  },
  {
   "cell_type": "code",
   "execution_count": 11,
   "metadata": {},
   "outputs": [
    {
     "data": {
      "image/png": "[encoded data removed]",
      "text/plain": [
       "<Figure size 640x480 with 1 Axes>"
      ]
     },
     "metadata": {},
     "output_type": "display_data"
    }
   ],
   "source": [
    "# Plot accuracy and loss\n",
    "plt.figure()\n",
    "plt.plot(train_losses, label='Train loss')\n",
    "plt.plot(test_losses, label='Test loss')\n",
    "plt.legend()\n",
    "plt.xlabel('Epoch')\n",
    "plt.ylabel('Loss')\n",
    "plt.show()"
   ]
  },
  {
   "cell_type": "code",
   "execution_count": 12,
   "metadata": {},
   "outputs": [
    {
     "data": {
      "image/png": "[encoded data removed]",
      "text/plain": [
       "<Figure size 640x480 with 1 Axes>"
      ]
     },
     "metadata": {},
     "output_type": "display_data"
    }
   ],
   "source": [
    "# Plot accuracy and loss\n",
    "plt.figure()\n",
    "plt.plot(train_accs, label='Train Accuracy')\n",
    "plt.plot(test_accs, label='Test Accuracy')\n",
    "plt.legend()\n",
    "plt.xlabel('Epoch')\n",
    "plt.ylabel('Loss')\n",
    "plt.show()"
   ]
  },
  {
   "cell_type": "code",
   "execution_count": 13,
   "metadata": {},
   "outputs": [],
   "source": [
    "# save model\n",
    "torch.save(model.state_dict(), 'models/mlp_trained.pkl')"
   ]
  },
  {
   "cell_type": "markdown",
   "metadata": {},
   "source": [
    "## Investigate model predictions\n",
    "- Which chords are we good at predicting?\n",
    "- Which chords do we often mistake for other chords? "
   ]
  },
  {
   "cell_type": "code",
   "execution_count": 14,
   "metadata": {},
   "outputs": [],
   "source": [
    "# Predict on test set\n",
    "model.eval()\n",
    "y_pred = model(X_test.to(device))"
   ]
  },
  {
   "cell_type": "code",
   "execution_count": 15,
   "metadata": {},
   "outputs": [],
   "source": [
    "y_pred_idx = torch.argmax(y_pred, 1)"
   ]
  },
  {
   "cell_type": "code",
   "execution_count": 16,
   "metadata": {},
   "outputs": [
    {
     "data": {
      "text/plain": [
       "(np.float64(0.8133693339878907), np.float64(0.8404516445753559))"
      ]
     },
     "execution_count": 16,
     "metadata": {},
     "output_type": "execute_result"
    }
   ],
   "source": [
    "evaluate(y_test.numpy(), y_pred_idx.numpy())"
   ]
  },
  {
   "cell_type": "markdown",
   "metadata": {},
   "source": [
    "- The overall accuracy for the MLP model (81.3%) is higher than the Template model (77.1%).\n",
    "- The pitch accuracy for the MLP model (84.0%) is also higher than the Template model (80.2%)."
   ]
  },
  {
   "cell_type": "code",
   "execution_count": 17,
   "metadata": {},
   "outputs": [
    {
     "name": "stdout",
     "output_type": "stream",
     "text": [
      "Chord 0 - Accuracy: 0.8241160471441523, Pitch accuracy: 0.8349954669084315\n",
      "Chord 1 - Accuracy: 0.75, Pitch accuracy: 0.7752808988764045\n",
      "Chord 2 - Accuracy: 0.8591370558375635, Pitch accuracy: 0.8642131979695431\n",
      "Chord 3 - Accuracy: 0.6703296703296703, Pitch accuracy: 0.7362637362637363\n",
      "Chord 4 - Accuracy: 0.8324022346368715, Pitch accuracy: 0.8491620111731844\n",
      "Chord 5 - Accuracy: 0.7028985507246377, Pitch accuracy: 0.7681159420289855\n",
      "Chord 6 - Accuracy: 0.8710644677661169, Pitch accuracy: 0.8808095952023988\n",
      "Chord 7 - Accuracy: 0.7734806629834254, Pitch accuracy: 0.8729281767955801\n",
      "Chord 8 - Accuracy: 0.8476190476190476, Pitch accuracy: 0.8793650793650793\n",
      "Chord 9 - Accuracy: 0.8289473684210527, Pitch accuracy: 0.868421052631579\n",
      "Chord 10 - Accuracy: 0.8431718061674008, Pitch accuracy: 0.8616740088105727\n",
      "Chord 11 - Accuracy: 0.7135549872122762, Pitch accuracy: 0.7902813299232737\n",
      "Chord 12 - Accuracy: 0.8555304740406321, Pitch accuracy: 0.873589164785553\n",
      "Chord 13 - Accuracy: 0.5752212389380531, Pitch accuracy: 0.7079646017699115\n",
      "Chord 14 - Accuracy: 0.8456140350877193, Pitch accuracy: 0.8654970760233918\n",
      "Chord 15 - Accuracy: 0.7335243553008596, Pitch accuracy: 0.839541547277937\n",
      "Chord 16 - Accuracy: 0.8099902056807052, Pitch accuracy: 0.8207639569049952\n",
      "Chord 17 - Accuracy: 0.6792452830188679, Pitch accuracy: 0.8050314465408805\n",
      "Chord 18 - Accuracy: 0.7371273712737128, Pitch accuracy: 0.7913279132791328\n",
      "Chord 19 - Accuracy: 0.6929460580912863, Pitch accuracy: 0.7302904564315352\n",
      "Chord 20 - Accuracy: 0.8658436213991769, Pitch accuracy: 0.8707818930041152\n",
      "Chord 21 - Accuracy: 0.7283018867924528, Pitch accuracy: 0.8037735849056604\n",
      "Chord 22 - Accuracy: 0.7835990888382688, Pitch accuracy: 0.7927107061503417\n",
      "Chord 23 - Accuracy: 0.7340425531914894, Pitch accuracy: 0.8191489361702128\n"
     ]
    }
   ],
   "source": [
    "chord_acc, chord_pitch_acc = evaluate_by_chord(y_test.numpy(), y_pred_idx.numpy())"
   ]
  },
  {
   "cell_type": "code",
   "execution_count": 18,
   "metadata": {},
   "outputs": [
    {
     "data": {
      "text/plain": [
       "array([13,  3, 17, 19,  5])"
      ]
     },
     "execution_count": 18,
     "metadata": {},
     "output_type": "execute_result"
    }
   ],
   "source": [
    "# Get top 5 most confused chords\n",
    "confused_chords = np.argsort(chord_acc)[:5]\n",
    "confused_chords"
   ]
  },
  {
   "cell_type": "markdown",
   "metadata": {},
   "source": [
    "- The Template model is slightly better at predicting some chords:\n",
    "    - Chord 3 (A#min): Template (70.3%) VS MLP (67.0%)\n",
    "    - Chord 5 (Bmin): Template (70.7%) VS MLP (70.3%)\n",
    "\n",
    "- Interestingly, they are all minor chords."
   ]
  },
  {
   "cell_type": "code",
   "execution_count": 20,
   "metadata": {},
   "outputs": [
    {
     "name": "stdout",
     "output_type": "stream",
     "text": [
      "Chord : D#min\n",
      "13    0.575221\n",
      "18    0.159292\n",
      "12    0.132743\n",
      "2     0.053097\n",
      "22    0.035398\n",
      "8     0.017699\n",
      "3     0.017699\n",
      "15    0.008850\n",
      "Name: proportion, dtype: float64\n",
      "Chord D#min is most confused with F#maj.\n",
      "=====================================\n",
      "Chord : A#min\n",
      "3     0.670330\n",
      "13    0.087912\n",
      "2     0.065934\n",
      "8     0.043956\n",
      "22    0.032967\n",
      "17    0.021978\n",
      "16    0.021978\n",
      "20    0.010989\n",
      "18    0.010989\n",
      "7     0.010989\n",
      "0     0.010989\n",
      "12    0.010989\n",
      "Name: proportion, dtype: float64\n",
      "Chord A#min is most confused with D#min.\n",
      "=====================================\n",
      "Chord : Fmin\n",
      "17    0.679245\n",
      "16    0.125786\n",
      "7     0.050314\n",
      "22    0.037736\n",
      "8     0.031447\n",
      "2     0.031447\n",
      "3     0.012579\n",
      "4     0.006289\n",
      "21    0.006289\n",
      "6     0.006289\n",
      "12    0.006289\n",
      "19    0.006289\n",
      "Name: proportion, dtype: float64\n",
      "Chord Fmin is most confused with Fmaj.\n",
      "=====================================\n",
      "Chord : F#min\n",
      "19    0.692946\n",
      "0     0.107884\n",
      "14    0.045643\n",
      "10    0.037344\n",
      "18    0.037344\n",
      "21    0.033195\n",
      "5     0.020747\n",
      "4     0.008299\n",
      "2     0.008299\n",
      "20    0.004149\n",
      "9     0.004149\n",
      "Name: proportion, dtype: float64\n",
      "Chord F#min is most confused with Amaj.\n",
      "=====================================\n",
      "Chord : Bmin\n",
      "5     0.702899\n",
      "10    0.068841\n",
      "4     0.065217\n",
      "14    0.054348\n",
      "20    0.050725\n",
      "0     0.021739\n",
      "15    0.014493\n",
      "18    0.010870\n",
      "19    0.007246\n",
      "1     0.003623\n",
      "Name: proportion, dtype: float64\n",
      "Chord Bmin is most confused with Dmaj.\n",
      "=====================================\n"
     ]
    }
   ],
   "source": [
    "for i in confused_chords:\n",
    "    get_chord_error(i, pd.Series(y_pred_idx.numpy()), y_test_idx)"
   ]
  },
  {
   "cell_type": "code",
   "execution_count": 21,
   "metadata": {},
   "outputs": [
    {
     "data": {
      "image/png": "[encoded data removed]",
      "text/plain": [
       "<Figure size 640x480 with 1 Axes>"
      ]
     },
     "metadata": {},
     "output_type": "display_data"
    }
   ],
   "source": [
    "# Plot chord accuracies and pitch accuracies in bar chart\n",
    "plt.figure()\n",
    "plt.bar(range(24), chord_acc)\n",
    "plt.xlabel('Chord')\n",
    "plt.ylabel('Accuracy')\n",
    "plt.title('Chord accuracies')\n",
    "plt.xticks(np.arange(24), chord_majmin_map.values(), rotation=90)\n",
    "\n",
    "plt.show()\n"
   ]
  },
  {
   "cell_type": "code",
   "execution_count": null,
   "metadata": {},
   "outputs": [],
   "source": []
  }
 ],
 "metadata": {
  "kernelspec": {
   "display_name": "env",
   "language": "python",
   "name": "python3"
  },
  "language_info": {
   "codemirror_mode": {
    "name": "ipython",
    "version": 3
   },
   "file_extension": ".py",
   "mimetype": "text/x-python",
   "name": "python",
   "nbconvert_exporter": "python",
   "pygments_lexer": "ipython3",
   "version": "3.9.6"
  }
 },
 "nbformat": 4,
 "nbformat_minor": 2
}
