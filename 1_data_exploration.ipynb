{
 "cells": [
  {
   "cell_type": "code",
   "execution_count": 4,
   "metadata": {},
   "outputs": [
    {
     "name": "stdout",
     "output_type": "stream",
     "text": [
      "The autoreload extension is already loaded. To reload it, use:\n",
      "  %reload_ext autoreload\n"
     ]
    }
   ],
   "source": [
    "%load_ext autoreload"
   ]
  },
  {
   "cell_type": "code",
   "execution_count": null,
   "metadata": {},
   "outputs": [],
   "source": [
    "%reload_ext autoreload"
   ]
  },
  {
   "cell_type": "code",
   "execution_count": 5,
   "metadata": {},
   "outputs": [
    {
     "name": "stderr",
     "output_type": "stream",
     "text": [
      "Matplotlib is building the font cache; this may take a moment.\n"
     ]
    }
   ],
   "source": [
    "import pandas as pd\n",
    "import numpy as np\n",
    "import matplotlib.pyplot as plt"
   ]
  },
  {
   "cell_type": "markdown",
   "metadata": {},
   "source": [
    "## Data Exploration\n",
    "- Label distribution (by pitch, major/minor, and combined root pitch and major/minor)\n",
    "- chroma energy values\n",
    "- Relationship between labels and chroma energy values"
   ]
  },
  {
   "cell_type": "code",
   "execution_count": 6,
   "metadata": {},
   "outputs": [],
   "source": [
    "data = pd.read_csv('data/chord_data.csv', header=None)"
   ]
  },
  {
   "cell_type": "code",
   "execution_count": 9,
   "metadata": {},
   "outputs": [
    {
     "data": {
      "text/html": [
       "<div>\n",
       "<style scoped>\n",
       "    .dataframe tbody tr th:only-of-type {\n",
       "        vertical-align: middle;\n",
       "    }\n",
       "\n",
       "    .dataframe tbody tr th {\n",
       "        vertical-align: top;\n",
       "    }\n",
       "\n",
       "    .dataframe thead th {\n",
       "        text-align: right;\n",
       "    }\n",
       "</style>\n",
       "<table border=\"1\" class=\"dataframe\">\n",
       "  <thead>\n",
       "    <tr style=\"text-align: right;\">\n",
       "      <th></th>\n",
       "      <th>0</th>\n",
       "      <th>1</th>\n",
       "      <th>2</th>\n",
       "      <th>3</th>\n",
       "      <th>4</th>\n",
       "      <th>5</th>\n",
       "      <th>6</th>\n",
       "      <th>7</th>\n",
       "      <th>8</th>\n",
       "      <th>9</th>\n",
       "      <th>10</th>\n",
       "      <th>11</th>\n",
       "      <th>12</th>\n",
       "      <th>13</th>\n",
       "    </tr>\n",
       "  </thead>\n",
       "  <tbody>\n",
       "    <tr>\n",
       "      <th>count</th>\n",
       "      <td>40738.000000</td>\n",
       "      <td>40738.000000</td>\n",
       "      <td>40738.000000</td>\n",
       "      <td>40738.000000</td>\n",
       "      <td>40738.000000</td>\n",
       "      <td>40738.000000</td>\n",
       "      <td>40738.000000</td>\n",
       "      <td>40738.000000</td>\n",
       "      <td>40738.000000</td>\n",
       "      <td>40738.000000</td>\n",
       "      <td>40738.000000</td>\n",
       "      <td>40738.000000</td>\n",
       "      <td>40738.000000</td>\n",
       "      <td>40738.000000</td>\n",
       "    </tr>\n",
       "    <tr>\n",
       "      <th>mean</th>\n",
       "      <td>5.229147</td>\n",
       "      <td>0.218199</td>\n",
       "      <td>1.339436</td>\n",
       "      <td>0.860223</td>\n",
       "      <td>1.103861</td>\n",
       "      <td>1.156500</td>\n",
       "      <td>0.822990</td>\n",
       "      <td>1.292707</td>\n",
       "      <td>0.750032</td>\n",
       "      <td>1.253293</td>\n",
       "      <td>0.974080</td>\n",
       "      <td>0.913297</td>\n",
       "      <td>1.237724</td>\n",
       "      <td>0.776454</td>\n",
       "    </tr>\n",
       "    <tr>\n",
       "      <th>std</th>\n",
       "      <td>3.452830</td>\n",
       "      <td>0.413028</td>\n",
       "      <td>1.137390</td>\n",
       "      <td>0.961125</td>\n",
       "      <td>1.018418</td>\n",
       "      <td>1.161926</td>\n",
       "      <td>0.835085</td>\n",
       "      <td>1.148956</td>\n",
       "      <td>0.847559</td>\n",
       "      <td>1.076554</td>\n",
       "      <td>1.023538</td>\n",
       "      <td>0.879474</td>\n",
       "      <td>1.115191</td>\n",
       "      <td>0.819962</td>\n",
       "    </tr>\n",
       "    <tr>\n",
       "      <th>min</th>\n",
       "      <td>0.000000</td>\n",
       "      <td>0.000000</td>\n",
       "      <td>0.000000</td>\n",
       "      <td>0.000000</td>\n",
       "      <td>0.000000</td>\n",
       "      <td>0.000000</td>\n",
       "      <td>0.000000</td>\n",
       "      <td>0.000000</td>\n",
       "      <td>0.000000</td>\n",
       "      <td>0.000000</td>\n",
       "      <td>0.000000</td>\n",
       "      <td>0.000000</td>\n",
       "      <td>0.000000</td>\n",
       "      <td>0.000000</td>\n",
       "    </tr>\n",
       "    <tr>\n",
       "      <th>25%</th>\n",
       "      <td>2.000000</td>\n",
       "      <td>0.000000</td>\n",
       "      <td>0.461000</td>\n",
       "      <td>0.277000</td>\n",
       "      <td>0.392000</td>\n",
       "      <td>0.316000</td>\n",
       "      <td>0.285000</td>\n",
       "      <td>0.414000</td>\n",
       "      <td>0.247000</td>\n",
       "      <td>0.430000</td>\n",
       "      <td>0.298000</td>\n",
       "      <td>0.316000</td>\n",
       "      <td>0.396000</td>\n",
       "      <td>0.284000</td>\n",
       "    </tr>\n",
       "    <tr>\n",
       "      <th>50%</th>\n",
       "      <td>5.000000</td>\n",
       "      <td>0.000000</td>\n",
       "      <td>0.933000</td>\n",
       "      <td>0.495000</td>\n",
       "      <td>0.731000</td>\n",
       "      <td>0.657000</td>\n",
       "      <td>0.523000</td>\n",
       "      <td>0.881000</td>\n",
       "      <td>0.450000</td>\n",
       "      <td>0.878000</td>\n",
       "      <td>0.552000</td>\n",
       "      <td>0.593000</td>\n",
       "      <td>0.803000</td>\n",
       "      <td>0.491000</td>\n",
       "    </tr>\n",
       "    <tr>\n",
       "      <th>75%</th>\n",
       "      <td>8.000000</td>\n",
       "      <td>0.000000</td>\n",
       "      <td>1.980000</td>\n",
       "      <td>0.975000</td>\n",
       "      <td>1.500000</td>\n",
       "      <td>1.710000</td>\n",
       "      <td>1.020000</td>\n",
       "      <td>1.920000</td>\n",
       "      <td>0.858000</td>\n",
       "      <td>1.870000</td>\n",
       "      <td>1.270000</td>\n",
       "      <td>1.200000</td>\n",
       "      <td>1.850000</td>\n",
       "      <td>0.897000</td>\n",
       "    </tr>\n",
       "    <tr>\n",
       "      <th>max</th>\n",
       "      <td>11.000000</td>\n",
       "      <td>1.000000</td>\n",
       "      <td>6.470000</td>\n",
       "      <td>6.520000</td>\n",
       "      <td>6.200000</td>\n",
       "      <td>6.470000</td>\n",
       "      <td>6.300000</td>\n",
       "      <td>7.050000</td>\n",
       "      <td>6.890000</td>\n",
       "      <td>6.720000</td>\n",
       "      <td>6.610000</td>\n",
       "      <td>5.760000</td>\n",
       "      <td>6.290000</td>\n",
       "      <td>6.190000</td>\n",
       "    </tr>\n",
       "  </tbody>\n",
       "</table>\n",
       "</div>"
      ],
      "text/plain": [
       "                 0             1             2             3             4   \\\n",
       "count  40738.000000  40738.000000  40738.000000  40738.000000  40738.000000   \n",
       "mean       5.229147      0.218199      1.339436      0.860223      1.103861   \n",
       "std        3.452830      0.413028      1.137390      0.961125      1.018418   \n",
       "min        0.000000      0.000000      0.000000      0.000000      0.000000   \n",
       "25%        2.000000      0.000000      0.461000      0.277000      0.392000   \n",
       "50%        5.000000      0.000000      0.933000      0.495000      0.731000   \n",
       "75%        8.000000      0.000000      1.980000      0.975000      1.500000   \n",
       "max       11.000000      1.000000      6.470000      6.520000      6.200000   \n",
       "\n",
       "                 5             6             7             8             9   \\\n",
       "count  40738.000000  40738.000000  40738.000000  40738.000000  40738.000000   \n",
       "mean       1.156500      0.822990      1.292707      0.750032      1.253293   \n",
       "std        1.161926      0.835085      1.148956      0.847559      1.076554   \n",
       "min        0.000000      0.000000      0.000000      0.000000      0.000000   \n",
       "25%        0.316000      0.285000      0.414000      0.247000      0.430000   \n",
       "50%        0.657000      0.523000      0.881000      0.450000      0.878000   \n",
       "75%        1.710000      1.020000      1.920000      0.858000      1.870000   \n",
       "max        6.470000      6.300000      7.050000      6.890000      6.720000   \n",
       "\n",
       "                 10            11            12            13  \n",
       "count  40738.000000  40738.000000  40738.000000  40738.000000  \n",
       "mean       0.974080      0.913297      1.237724      0.776454  \n",
       "std        1.023538      0.879474      1.115191      0.819962  \n",
       "min        0.000000      0.000000      0.000000      0.000000  \n",
       "25%        0.298000      0.316000      0.396000      0.284000  \n",
       "50%        0.552000      0.593000      0.803000      0.491000  \n",
       "75%        1.270000      1.200000      1.850000      0.897000  \n",
       "max        6.610000      5.760000      6.290000      6.190000  "
      ]
     },
     "execution_count": 9,
     "metadata": {},
     "output_type": "execute_result"
    }
   ],
   "source": [
    "data.describe()"
   ]
  },
  {
   "cell_type": "markdown",
   "metadata": {},
   "source": [
    "There are 40738 samples in the dataset, and chroma values range from 0 to ~7.0.\n",
    "Some pitches have a larger range of chroma values, while some have higher 50th/70th percentile values, which might mean that they are more commonly activated than others."
   ]
  },
  {
   "cell_type": "code",
   "execution_count": 10,
   "metadata": {},
   "outputs": [
    {
     "data": {
      "text/plain": [
       "0\n",
       "5     5087\n",
       "3     5047\n",
       "10    4932\n",
       "0     4863\n",
       "7     4013\n",
       "8     3933\n",
       "1     2931\n",
       "2     2709\n",
       "9     2033\n",
       "6     1854\n",
       "11    1780\n",
       "4     1556\n",
       "Name: count, dtype: int64"
      ]
     },
     "execution_count": 10,
     "metadata": {},
     "output_type": "execute_result"
    }
   ],
   "source": [
    "data[0].value_counts()"
   ]
  },
  {
   "cell_type": "code",
   "execution_count": 11,
   "metadata": {},
   "outputs": [
    {
     "data": {
      "text/plain": [
       "1\n",
       "0    31849\n",
       "1     8889\n",
       "Name: count, dtype: int64"
      ]
     },
     "execution_count": 11,
     "metadata": {},
     "output_type": "execute_result"
    }
   ],
   "source": [
    "data[1].value_counts()"
   ]
  },
  {
   "cell_type": "code",
   "execution_count": 30,
   "metadata": {},
   "outputs": [],
   "source": [
    "# map index to chord\n",
    "chords = ['A', 'A#', 'B', 'C', 'C#', 'D', 'D#', 'E', 'F', 'F#', 'G', 'G#']\n",
    "chord_map = {i: chord for i, chord in enumerate(chords)}\n",
    "majmin_map = {0: 'maj', 1: 'min'}\n",
    "chord_majmin_map = {i: chord_map[i // 2] + majmin_map[i % 2] for i in range(24)}"
   ]
  },
  {
   "cell_type": "code",
   "execution_count": 58,
   "metadata": {},
   "outputs": [
    {
     "data": {
      "text/plain": [
       "([<matplotlib.axis.XTick at 0x13787a7c0>,\n",
       "  <matplotlib.axis.XTick at 0x13787a790>,\n",
       "  <matplotlib.axis.XTick at 0x1378a0820>,\n",
       "  <matplotlib.axis.XTick at 0x1378db8b0>,\n",
       "  <matplotlib.axis.XTick at 0x1378dbe80>,\n",
       "  <matplotlib.axis.XTick at 0x1378e0a90>,\n",
       "  <matplotlib.axis.XTick at 0x1378e0f70>,\n",
       "  <matplotlib.axis.XTick at 0x1378e8a90>,\n",
       "  <matplotlib.axis.XTick at 0x137848c40>,\n",
       "  <matplotlib.axis.XTick at 0x1378e8cd0>,\n",
       "  <matplotlib.axis.XTick at 0x1378f01c0>,\n",
       "  <matplotlib.axis.XTick at 0x1378f5310>],\n",
       " [Text(0, 0, 'A'),\n",
       "  Text(1, 0, 'A#'),\n",
       "  Text(2, 0, 'B'),\n",
       "  Text(3, 0, 'C'),\n",
       "  Text(4, 0, 'C#'),\n",
       "  Text(5, 0, 'D'),\n",
       "  Text(6, 0, 'D#'),\n",
       "  Text(7, 0, 'E'),\n",
       "  Text(8, 0, 'F'),\n",
       "  Text(9, 0, 'F#'),\n",
       "  Text(10, 0, 'G'),\n",
       "  Text(11, 0, 'G#')])"
      ]
     },
     "execution_count": 58,
     "metadata": {},
     "output_type": "execute_result"
    },
    {
     "data": {
      "image/png": "[encoded data removed]",
      "text/plain": [
       "<Figure size 640x480 with 1 Axes>"
      ]
     },
     "metadata": {},
     "output_type": "display_data"
    }
   ],
   "source": [
    "data.groupby([0, 1]).size().unstack().plot(kind='bar', stacked=True)\n",
    "plt.xticks(np.arange(12), chords)"
   ]
  },
  {
   "cell_type": "markdown",
   "metadata": {},
   "source": [
    "### Initial observations:\n",
    "- There are far more Major chords than Minor chords.\n",
    "- There are way more A/C/D/G chords than C#/D#/F#/G# chords.\n",
    "\n",
    "Given the highly skewed labels, we need to ensure that our dataset is stratified during train-test split later.\n",
    "We'd also want to explore the chord-level accuracies of our predictions, to make sure that less-represented chords are also predicted properly.\n"
   ]
  },
  {
   "cell_type": "markdown",
   "metadata": {},
   "source": [
    "## Plot chroma values against chord labels"
   ]
  },
  {
   "cell_type": "code",
   "execution_count": 158,
   "metadata": {},
   "outputs": [
    {
     "data": {
      "text/plain": [
       "Text(0, 0.5, 'Chord')"
      ]
     },
     "execution_count": 158,
     "metadata": {},
     "output_type": "execute_result"
    },
    {
     "data": {
      "image/png": "[encoded data removed]",
      "text/plain": [
       "<Figure size 640x480 with 1 Axes>"
      ]
     },
     "metadata": {},
     "output_type": "display_data"
    }
   ],
   "source": [
    "# plot average energy per chroma per chord\n",
    "plt.imshow(data.groupby([0, 1]).mean(), cmap='viridis', interpolation='nearest',)\n",
    "plt.xticks(np.arange(12), chords)\n",
    "plt.yticks(np.arange(24), chord_majmin_map.values())\n",
    "plt.xlabel('Pitch Chroma')\n",
    "plt.ylabel('Chord')"
   ]
  },
  {
   "cell_type": "markdown",
   "metadata": {},
   "source": [
    "Based on the Average (mean) energy level above, the root pitch has highest energy, while the other 2 pitches of its triad have the next highest energies."
   ]
  },
  {
   "cell_type": "code",
   "execution_count": 157,
   "metadata": {},
   "outputs": [
    {
     "data": {
      "text/plain": [
       "Text(0, 0.5, 'Chord')"
      ]
     },
     "execution_count": 157,
     "metadata": {},
     "output_type": "execute_result"
    },
    {
     "data": {
      "image/png": "[encoded data removed]",
      "text/plain": [
       "<Figure size 640x480 with 1 Axes>"
      ]
     },
     "metadata": {},
     "output_type": "display_data"
    }
   ],
   "source": [
    "# plot standard deviation of energy per chroma per chord\n",
    "plt.imshow(data.groupby([0, 1]).std(), cmap='viridis', interpolation='nearest',)\n",
    "plt.xticks(np.arange(12), chords)\n",
    "plt.yticks(np.arange(24), chord_majmin_map.values())\n",
    "plt.xlabel('Pitch Chroma')\n",
    "plt.ylabel('Chord')"
   ]
  },
  {
   "cell_type": "markdown",
   "metadata": {},
   "source": [
    "The standard deviation of each chroma is surprisingly higher at the root pitch, suggesting that the root pitch alone might be insufficient to determine a chord. Some chords might have lower energies at their root pitch."
   ]
  },
  {
   "cell_type": "markdown",
   "metadata": {},
   "source": [
    "## Train-Test Split"
   ]
  },
  {
   "cell_type": "code",
   "execution_count": 62,
   "metadata": {},
   "outputs": [],
   "source": [
    "from sklearn.model_selection import train_test_split"
   ]
  },
  {
   "cell_type": "code",
   "execution_count": 60,
   "metadata": {},
   "outputs": [],
   "source": [
    "X = data.loc[:, 2:]\n",
    "y = data.loc[:, 0:1]"
   ]
  },
  {
   "cell_type": "code",
   "execution_count": 173,
   "metadata": {},
   "outputs": [],
   "source": [
    "X_train, X_test, y_train, y_test = train_test_split(\n",
    "    X, y, test_size=0.30, stratify=y, random_state=42)"
   ]
  },
  {
   "cell_type": "markdown",
   "metadata": {},
   "source": [
    "### Check if:\n",
    "- Train and test shape is 70/30% of dataset\n",
    "- Chord distribution is retained in both the train and test sets"
   ]
  },
  {
   "cell_type": "code",
   "execution_count": 174,
   "metadata": {},
   "outputs": [
    {
     "data": {
      "text/plain": [
       "((28516, 12), (12222, 12))"
      ]
     },
     "execution_count": 174,
     "metadata": {},
     "output_type": "execute_result"
    }
   ],
   "source": [
    "X_train.shape, X_test.shape"
   ]
  },
  {
   "cell_type": "code",
   "execution_count": 175,
   "metadata": {},
   "outputs": [
    {
     "data": {
      "text/plain": [
       "0   1\n",
       "3   0    0.109097\n",
       "10  0    0.099418\n",
       "5   0    0.092895\n",
       "0   0    0.090265\n",
       "8   0    0.083567\n",
       "7   0    0.069926\n",
       "1   0    0.064525\n",
       "2   0    0.043940\n",
       "6   0    0.036295\n",
       "11  0    0.035980\n",
       "5   1    0.031982\n",
       "9   0    0.030159\n",
       "0   1    0.029106\n",
       "7   1    0.028580\n",
       "4   0    0.025775\n",
       "2   1    0.022549\n",
       "10  1    0.021637\n",
       "9   1    0.019743\n",
       "3   1    0.014764\n",
       "8   1    0.012975\n",
       "4   1    0.012414\n",
       "6   1    0.009223\n",
       "11  1    0.007750\n",
       "1   1    0.007434\n",
       "Name: proportion, dtype: float64"
      ]
     },
     "execution_count": 175,
     "metadata": {},
     "output_type": "execute_result"
    }
   ],
   "source": [
    "y_train.value_counts(normalize=True)"
   ]
  },
  {
   "cell_type": "code",
   "execution_count": 176,
   "metadata": {},
   "outputs": [
    {
     "data": {
      "text/plain": [
       "0   1\n",
       "3   0    0.109147\n",
       "10  0    0.099411\n",
       "5   0    0.092865\n",
       "0   0    0.090247\n",
       "8   0    0.083538\n",
       "7   0    0.069956\n",
       "1   0    0.064474\n",
       "2   0    0.043937\n",
       "6   0    0.036246\n",
       "11  0    0.035919\n",
       "5   1    0.031991\n",
       "9   0    0.030191\n",
       "0   1    0.029128\n",
       "7   1    0.028555\n",
       "4   0    0.025773\n",
       "2   1    0.022582\n",
       "10  1    0.021682\n",
       "9   1    0.019719\n",
       "3   1    0.014809\n",
       "8   1    0.013009\n",
       "4   1    0.012437\n",
       "6   1    0.009246\n",
       "11  1    0.007691\n",
       "1   1    0.007446\n",
       "Name: proportion, dtype: float64"
      ]
     },
     "execution_count": 176,
     "metadata": {},
     "output_type": "execute_result"
    }
   ],
   "source": [
    "y_test.value_counts(normalize=True)"
   ]
  },
  {
   "cell_type": "code",
   "execution_count": 177,
   "metadata": {},
   "outputs": [
    {
     "data": {
      "text/plain": [
       "0   1\n",
       "3   0    0.109112\n",
       "10  0    0.099416\n",
       "5   0    0.092886\n",
       "0   0    0.090260\n",
       "8   0    0.083558\n",
       "7   0    0.069935\n",
       "1   0    0.064510\n",
       "2   0    0.043939\n",
       "6   0    0.036281\n",
       "11  0    0.035962\n",
       "5   1    0.031985\n",
       "9   0    0.030168\n",
       "0   1    0.029113\n",
       "7   1    0.028573\n",
       "4   0    0.025774\n",
       "2   1    0.022559\n",
       "10  1    0.021651\n",
       "9   1    0.019736\n",
       "3   1    0.014777\n",
       "8   1    0.012985\n",
       "4   1    0.012421\n",
       "6   1    0.009230\n",
       "11  1    0.007732\n",
       "1   1    0.007438\n",
       "Name: proportion, dtype: float64"
      ]
     },
     "execution_count": 177,
     "metadata": {},
     "output_type": "execute_result"
    }
   ],
   "source": [
    "y.value_counts(normalize=True)"
   ]
  },
  {
   "cell_type": "markdown",
   "metadata": {},
   "source": [
    "## Chroma Template-based Chord Identification"
   ]
  },
  {
   "cell_type": "markdown",
   "metadata": {},
   "source": [
    "### Create chroma template\n",
    "- Create binary map using the top 3 pitches per chord label,to get a map of each chord's triad"
   ]
  },
  {
   "cell_type": "code",
   "execution_count": 79,
   "metadata": {},
   "outputs": [],
   "source": [
    "avg_chroma = data.groupby([0, 1]).mean().values\n",
    "# Generate binary map for top 3 indices for each row to get chords in triads\n",
    "mask = np.zeros_like(avg_chroma)\n",
    "for i in range(avg_chroma.shape[0]):\n",
    "    mask[i, np.argsort(avg_chroma[i])[-3:]] = 1\n",
    "    "
   ]
  },
  {
   "cell_type": "code",
   "execution_count": 159,
   "metadata": {},
   "outputs": [
    {
     "data": {
      "text/plain": [
       "Text(0, 0.5, 'Chord')"
      ]
     },
     "execution_count": 159,
     "metadata": {},
     "output_type": "execute_result"
    },
    {
     "data": {
      "image/png": "[encoded data removed]",
      "text/plain": [
       "<Figure size 640x480 with 1 Axes>"
      ]
     },
     "metadata": {},
     "output_type": "display_data"
    }
   ],
   "source": [
    "# plot binary map with legend\n",
    "plt.imshow(mask, cmap='viridis', interpolation='nearest',)\n",
    "plt.xticks(np.arange(12), chords)\n",
    "plt.yticks(np.arange(24), chord_majmin_map.values())\n",
    "plt.xlabel('Pitch Chroma')\n",
    "plt.ylabel('Chord')"
   ]
  },
  {
   "cell_type": "markdown",
   "metadata": {},
   "source": [
    "### Define similarity metric and helper functions\n",
    "- We use a normalized inner product to calculate the similarity between the chord map and a given chroma feature\n",
    "\n",
    "We also need functions for:\n",
    "- Converting 2-column labels into an index label (0-23)\n",
    "- Make predictions for each chord"
   ]
  },
  {
   "cell_type": "code",
   "execution_count": 99,
   "metadata": {},
   "outputs": [],
   "source": [
    "# Calculate normalized inner product between 2 vectors\n",
    "def inner_product(a, b):\n",
    "    return np.dot(a, b) / (np.linalg.norm(a) * np.linalg.norm(b))"
   ]
  },
  {
   "cell_type": "code",
   "execution_count": 165,
   "metadata": {},
   "outputs": [],
   "source": [
    "def convert_label_to_idx(chord_idx, majmin_idx):\n",
    "    label = chord_idx * 2 + majmin_idx\n",
    "    return label"
   ]
  },
  {
   "cell_type": "code",
   "execution_count": 148,
   "metadata": {},
   "outputs": [],
   "source": [
    "def predict_chord(mask, chroma):\n",
    "    similarity_scores = []\n",
    "    # normalize chroma vector\n",
    "    chroma = chroma / np.linalg.norm(chroma)\n",
    "    for i in range(mask.shape[0]):\n",
    "        similarity_scores.append(inner_product(chroma, mask[i]))\n",
    "    return similarity_scores, np.argmax(similarity_scores)\n"
   ]
  },
  {
   "cell_type": "code",
   "execution_count": 169,
   "metadata": {},
   "outputs": [],
   "source": [
    "similarity_scores, pred = predict_chord(mask, data.iloc[0, 2:].values)"
   ]
  },
  {
   "cell_type": "code",
   "execution_count": 170,
   "metadata": {},
   "outputs": [
    {
     "data": {
      "text/plain": [
       "2.0"
      ]
     },
     "execution_count": 170,
     "metadata": {},
     "output_type": "execute_result"
    }
   ],
   "source": [
    "convert_label_to_idx(*data.iloc[0, :2])"
   ]
  },
  {
   "cell_type": "code",
   "execution_count": 171,
   "metadata": {},
   "outputs": [
    {
     "data": {
      "text/plain": [
       "np.int64(2)"
      ]
     },
     "execution_count": 171,
     "metadata": {},
     "output_type": "execute_result"
    }
   ],
   "source": [
    "pred"
   ]
  },
  {
   "cell_type": "code",
   "execution_count": 172,
   "metadata": {},
   "outputs": [
    {
     "data": {
      "text/plain": [
       "[np.float64(0.04741484942122166),\n",
       " np.float64(0.2620413306228687),\n",
       " np.float64(0.6495317587607408),\n",
       " np.float64(0.6138414259198348),\n",
       " np.float64(0.21890609124818103),\n",
       " np.float64(0.06580909788538088),\n",
       " np.float64(0.40825864896746716),\n",
       " np.float64(0.5749211987041863),\n",
       " np.float64(0.19443964135950575),\n",
       " np.float64(0.048771405058613555),\n",
       " np.float64(0.07470745688779679),\n",
       " np.float64(0.22877341856301978),\n",
       " np.float64(0.786479280249828),\n",
       " np.float64(0.648562790448318),\n",
       " np.float64(0.04529926860576524),\n",
       " np.float64(0.19016003131297177),\n",
       " np.float64(0.40770956692376087),\n",
       " np.float64(0.4090661225611528),\n",
       " np.float64(0.45977546424461196),\n",
       " np.float64(0.03901712404689084),\n",
       " np.float64(0.20372558768689075),\n",
       " np.float64(0.6333822868870277),\n",
       " np.float64(0.4300604359969798),\n",
       " np.float64(0.21196181834248443)]"
      ]
     },
     "execution_count": 172,
     "metadata": {},
     "output_type": "execute_result"
    }
   ],
   "source": [
    "simliarity"
   ]
  },
  {
   "cell_type": "markdown",
   "metadata": {},
   "source": [
    "### Define evaluation function\n",
    "- Accuracy (i.e. whether predicted label == true label)\n",
    "- Root pitch accuracy (i.e. whether predicted root note == true root note, ignoring maj/min)"
   ]
  },
  {
   "cell_type": "code",
   "execution_count": 190,
   "metadata": {},
   "outputs": [],
   "source": [
    "def evaluate(y_true, y_pred):\n",
    "    acc = np.mean(y_true == y_pred)\n",
    "    pitch_acc = np.mean(y_true//2 == y_pred//2)\n",
    "    return acc, pitch_acc"
   ]
  },
  {
   "cell_type": "code",
   "execution_count": 182,
   "metadata": {},
   "outputs": [],
   "source": [
    "y_true_idx = data.apply(lambda x: convert_label_to_idx(*x[:2]), axis=1)  "
   ]
  },
  {
   "cell_type": "code",
   "execution_count": 187,
   "metadata": {},
   "outputs": [],
   "source": [
    "y_pred_idx = data.apply(lambda x: predict_chord(mask, x[2:])[1], axis=1)  "
   ]
  },
  {
   "cell_type": "code",
   "execution_count": 189,
   "metadata": {},
   "outputs": [
    {
     "data": {
      "text/plain": [
       "np.float64(0.7693553929991654)"
      ]
     },
     "execution_count": 189,
     "metadata": {},
     "output_type": "execute_result"
    }
   ],
   "source": [
    "np.mean(y_true_idx == y_pred_idx)"
   ]
  },
  {
   "cell_type": "code",
   "execution_count": null,
   "metadata": {},
   "outputs": [],
   "source": [
    "y_true_idx[:, 0]"
   ]
  },
  {
   "cell_type": "code",
   "execution_count": 191,
   "metadata": {},
   "outputs": [
    {
     "data": {
      "text/plain": [
       "(np.float64(0.7693553929991654), np.float64(0.8016102901467917))"
      ]
     },
     "execution_count": 191,
     "metadata": {},
     "output_type": "execute_result"
    }
   ],
   "source": [
    "evaluate(y_true_idx, y_pred_idx)"
   ]
  },
  {
   "cell_type": "code",
   "execution_count": null,
   "metadata": {},
   "outputs": [],
   "source": []
  }
 ],
 "metadata": {
  "kernelspec": {
   "display_name": "env",
   "language": "python",
   "name": "python3"
  },
  "language_info": {
   "codemirror_mode": {
    "name": "ipython",
    "version": 3
   },
   "file_extension": ".py",
   "mimetype": "text/x-python",
   "name": "python",
   "nbconvert_exporter": "python",
   "pygments_lexer": "ipython3",
   "version": "3.9.6"
  }
 },
 "nbformat": 4,
 "nbformat_minor": 2
}
